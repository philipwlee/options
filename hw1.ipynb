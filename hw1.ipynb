{
 "cells": [
  {
   "cell_type": "markdown",
   "id": "95e77a50-6277-4ce3-ad8d-985521d6b8c0",
   "metadata": {},
   "source": [
    "# FINM 33000: Homework 1\n",
    "\n",
    "#### Due Wednesday October 6, 2021 at 6:00pm\n",
    "\n",
    "In each part, construct an arbitrage: Specify a static portfolio that meets the definition of arbitrage (which you are to verify, using either the type-1 or type-2 condition). You can specify the portfolio’s assets in any order; just be clear and consistent about what order you have chosen. For example, you couldsay(3 units of A, 1 unit of B, -5 units of C)or(1 unit of B, -5 units of C, 3 units of A),but not just (3, 1, −5) nor just (1, −5, 3) without further specification.\n",
    "\n",
    "Let T > 0.\n",
    "\n",
    "In each part, S denotes a non-dividend-paying stock. Assume that ST ≥ 0. Unless otherwise directed, make no further assumptions about the distribution of ST ; your arbitrage must be valid regardless of the distribution of ST .\n",
    "\n",
    "(a) Exactly two assets are available: two bank accounts B and B∗ with B0 = B0∗ = 1 and BT =erT andBT∗ =er∗T wherer<r∗."
   ]
  },
  {
   "cell_type": "markdown",
   "id": "7b75031d-921a-4821-a73c-93bd1734b278",
   "metadata": {},
   "source": [
    "$$\\begin{aligned}\n",
    "    \\mathbb{X}_0 &= \\begin{bmatrix} B_0 & B_0^* \\end{bmatrix} \\\\\n",
    "        &= \\begin{bmatrix} 1 & 1 \\end{bmatrix} \\\\\n",
    "    \\mathbb{X}_T &= \\begin{bmatrix} B_T & B_T^* \\end{bmatrix} \\\\\n",
    "        &= \\begin{bmatrix} e^{rt} & e^{r^* t} \\end{bmatrix} \\\\\n",
    "    \\Theta &= \\begin{bmatrix} -1 & 1 \\end{bmatrix} \\\\\n",
    "    V_0 &= 0 \\\\\n",
    "    V_T &= - e^{rt} + e^{r^* t} \\\\\n",
    "        &= \\bigl(e^{rt}\\bigr)^{\\frac{r^*}{r}} - e^{rt} > 0 \\forall r^* > r \\\\\n",
    "\\end{aligned}$$"
   ]
  },
  {
   "cell_type": "markdown",
   "id": "8bb77788-7930-414c-b939-1d43311ca515",
   "metadata": {},
   "source": [
    "(b) Exactly three assets are available: A discount bond Z with Z0 = 0.9; the stock S with S0 = 100.0; and C, a European call on S with strike 110, expiry T, and time-0 price C0 = 0.50."
   ]
  },
  {
   "cell_type": "markdown",
   "id": "4706a1f7-7a7d-48f0-8596-c8d0e0e82666",
   "metadata": {},
   "source": [
    "$$\\begin{aligned}\n",
    "    \\mathbb{X}_0 &= \\begin{bmatrix} Z_0 & S_0 & C_0 \\end{bmatrix} \\\\\n",
    "        &= \\begin{bmatrix} 0.9 & 100 & 0.5 \\end{bmatrix} \\\\\n",
    "    \\mathbb{X}_T &= \\begin{bmatrix} Z_T & S_T & C_T \\end{bmatrix} \\\\\n",
    "        &= \\begin{bmatrix} 1 & S_T & \\max(S_T-110, 0) \\end{bmatrix} \\\\\n",
    "    \\Theta &= \\begin{bmatrix} 100 & -1 & 1 \\end{bmatrix} \\\\\n",
    "    V_0 &= 110*0.9 + (-1)*100 + 1*0.5 = -0.5\\\\\n",
    "    V_T &= 110*1 + (-1)*S_T + 1*\\max(S_T-110, 0)  \\\\\n",
    "        &= (110-S_T) + \\max(S_T-110, 0)  \\\\\n",
    "        &= \\max(S_T-110 + (110-S_T), 0+(110-S_T)) \\\\\n",
    "        &= \\max(0, 110-S_T) \\\\\n",
    "\\end{aligned}$$"
   ]
  },
  {
   "cell_type": "markdown",
   "id": "1205b64a-e387-4c3d-9534-80e7bbd2c98f",
   "metadata": {},
   "source": [
    "(c) Exactly three assets are available: the stock S with S0 = 100.0; a contract G that pays min(ST,110) at time T, and has time-0 price G0 = 85; and C, a European call on S with strike 110, expiry T , and time-0 price C0 = 20."
   ]
  },
  {
   "cell_type": "markdown",
   "id": "ee328cec-0abe-41a7-8cab-a28531314da8",
   "metadata": {},
   "source": [
    "$$\\begin{aligned}\n",
    "    \\mathbb{X}_0 &= \\begin{bmatrix} S_0 & G_0 & C_0 \\end{bmatrix} \\\\\n",
    "        &= \\begin{bmatrix} 100 & 85 & 20 \\end{bmatrix} \\\\\n",
    "    \\mathbb{X}_T &= \\begin{bmatrix} S_T & G_T & C_T \\end{bmatrix} \\\\\n",
    "        &= \\begin{bmatrix} S_T & \\min(S_T, 110) & \\max(S_T-110, 0) \\end{bmatrix} \\\\\n",
    "    \\Theta &= \\begin{bmatrix} 1 & -1 & -1 \\end{bmatrix} \\\\\n",
    "    V_0 &= 100 - 85 - 20 = -5 \\\\\n",
    "    V_T &= S_T - \\min(S_T, 110) - \\max(S_T-110,0) \\\\\n",
    "    V_T &= S_T - 110 - \\min(S_T - 110, 0) - \\max(S_T-110, 0) \\\\\n",
    "    V_T &= (S_T - 110) - (\\min(S_T - 110, 0) + \\max(S_T-110, 0)) \\\\\n",
    "\\end{aligned}$$"
   ]
  },
  {
   "cell_type": "markdown",
   "id": "0d8a4cc5-bdf9-4209-94ea-5d408c7e63d9",
   "metadata": {},
   "source": [
    "(d) Exactly four assets are available: A discount bond Z with Z0 = 0.9; and three calls (all on the same underlying. The underlying is not available for you to trade). The calls have expiry T, strike K ∈ {20.0,22.5,25.0}, and time-0 price C0(K), where\n",
    "C0(20.0) = 6.40, C0(22.5) = 4.00, C0(25.0) = 1.00.\n",
    "Hint: what combination (how many units of each one) of those calls will produce a time-T\n",
    "payoff max(0, 2.5 − |ST − 22.5|)?"
   ]
  },
  {
   "cell_type": "markdown",
   "id": "c1b81fb4-cf0b-4332-af74-1a25a7a88452",
   "metadata": {},
   "source": [
    "$$\\begin{aligned}\n",
    "    \\mathbb{X}_0 &= \\begin{bmatrix} C_0(20.0) & C_0(22.5) & C_0(25.0) \\end{bmatrix} \\\\\n",
    "        &= \\begin{bmatrix} 6.40 & 4.00 & 1.00 \\end{bmatrix} \\\\\n",
    "    \\mathbb{X}_T &= \\begin{bmatrix} C_T(20.0) & C_T(22.5) & C_T(25.0) \\end{bmatrix} \\\\\n",
    "        &= \\begin{bmatrix} \\max(S_T-K, 0) | K \\in {20.0, 22.5, 25.0} \\end{bmatrix} \\\\\n",
    "    \\Theta &= \\begin{bmatrix} 1 & -2 & 1 \\end{bmatrix} \\\\\n",
    "    V_0 &= -0.60 \\\\\n",
    "    V_T &= \\max(S_T-20.0, 0) - 2 \\max(S_T-22.5, 0) + \\max(S_T-25, 0) \\\\\n",
    "        &= \\begin{Bmatrix} 0 & \\text{if } 00.0 \\leq S_T < 20.0 \\\\\n",
    "                           S_T-20.0 & \\text{if } 20.0 \\leq S_T < 22.5 \\\\\n",
    "                           25.0-S_T & \\text{if } 22.5 \\leq S_T < 25.0 \\\\\n",
    "                           0 & \\text{if  } 25.0 \\leq S_T < \\infty\n",
    "           \\end{Bmatrix} \\\\\n",
    "\\end{aligned}$$"
   ]
  },
  {
   "cell_type": "markdown",
   "id": "450ae7a1-4d41-4ec5-82ad-796be8ff6a06",
   "metadata": {},
   "source": [
    "(e) Assume that ST > 0 and P(ST ̸= 100) > 0. Exactly 3 assets are available:\n",
    "a contract X that pays XT := −2 log(ST /100) at time T and has time-0 price X0 = 0.2,\n",
    "a forward contract Y , with delivery price 100 and delivery date T , and time-0 price Y0 = −10, and a discount bond Z with maturity T and time-0 price Z0 = 0.9."
   ]
  },
  {
   "cell_type": "markdown",
   "id": "66a685a3-2675-4ace-b1ed-ec907afeb4c3",
   "metadata": {},
   "source": [
    "$$\\begin{aligned}\n",
    "    \\mathbb{X}_0 &= \\begin{bmatrix} X_0 & Y_0 & Z_0 \\end{bmatrix} \\\\\n",
    "        &= \\begin{bmatrix} 0.2 & -10 & 0.9 \\end{bmatrix} \\\\\n",
    "    \\mathbb{X}_T &= \\begin{bmatrix} X_T & Y_T & Z_T \\end{bmatrix} \\\\\n",
    "        &= \\begin{bmatrix} -2\\log\\bigl(\\frac{S_T}{100}\\bigr) & S_T-100 & 1 \\end{bmatrix} \\\\ \\\\\n",
    "    \\text{Note:}& \\\\\n",
    "    \\frac{dX_T}{dS_T} &=-\\frac{2}{S_T} \\\\\n",
    "    \\frac{d^2X_T}{dS_T^2} &=\\frac{2}{S_T^2} \\\\ \\\\\n",
    "    \\text{Therefore:} \\\\\n",
    "    \\frac{dX_T}{dS_T}\\biggr|_{100} &= -\\frac{2}{100} = -\\frac{1}{50} \\\\\n",
    "    \\frac{d^2X_T}{dS_T^2} &\\geq 0 \\\\ \\\\\n",
    "    \\Theta &= \\begin{bmatrix} 50 & -1 & -23 \\end{bmatrix} \\\\\n",
    "    V_0 &= 50*0.2 + (-1)*(-10) + (-23)*0.9 \\\\\n",
    "        &= 20 - 20.7 = -0.7 \\\\\n",
    "    V_T &= 50*(-2\\log\\bigl(\\frac{S_T}{100}\\bigr)) + (-1)*(S_T-100) + (-23)*1 \\\\\n",
    "        &= 1\n",
    "\\end{aligned}$$"
   ]
  },
  {
   "cell_type": "markdown",
   "id": "fe6a5ff2-2fa9-44e6-95cd-a2734e20c0ef",
   "metadata": {},
   "source": [
    "Problem 2\n",
    "\n",
    "Interest rates are zero; the bank account has price Bt = 1 at all times.\n",
    "\n",
    "Trump is the Republican Party’s candidate in the US Presidential election.\n",
    "\n",
    "Biden is the Democratic Party’s candidate in the US Presidential election.\n",
    "\n",
    "Assume that exactly one of these two candidates {Trump the Republican, Biden the Democrat}\n",
    "will win US Presidential election.\n",
    "\n",
    "According to the rules of the election, the winner depends on who wins in each state of the US.\n",
    "\n",
    "You do not need to know the full rules that determine the US Presidential election winner from the state winners. \n",
    "\n",
    "You need to know only the information provided below.\n",
    "\n",
    "Assume that the current time is 7:30am on Thursday the 5th of November 2020 – which we will designate as “time 0”.\n",
    "\n",
    "Election Day was two days ago. The winner of the election in many of the states of the US has been already determined, but in a few US states, finishing the vote count will require some time.\n",
    "\n",
    "Assume that the winner has not yet been determined in only 3 US states: Arizona (AZ), Georgia (GA), and Pennsylvania (PA)\n",
    "\n",
    "Assume that, by some specified time T > 0, in each of those 3 states, exactly one of the two candidates will be revealed to be the winner: Trump the Republican, or Biden the Democrat.\n",
    "\n",
    "There are contracts frictionlessly available at time 0 for the following prices in blue color: (Ignore the dollar amounts in black color listed under “Volume”; they are not relevant to this question).\n",
    "\n",
    "(This is actual data from polymarket.com on 2020 November 5.)\n",
    "\n",
    "Let us assign names to the above 8 contracts, and to make sure there is no confusion, let us write these contract names in the same ordering as in the above table.\n",
    "\n",
    "| Win | Biden | Trump |\n",
    "| --- | --: | --: |\n",
    "| US | 0.83 | 0.17 |\n",
    "| AZ | 0.80 | 0.20 |\n",
    "| GA | 0.56 | 0.44 |\n",
    "| PA | 0.84 | 0.16 |\n",
    "\n",
    "US.Trump\n",
    "AZ.Biden\n",
    "GA.Biden\n",
    "PA.Biden\n",
    "US.Biden\n",
    "AZ.Trump\n",
    "GA.Trump\n",
    "PA.Trump\n",
    "\n",
    "(Be careful – Biden is listed on the right-hand side for the US election in the top row, but listed on the left-hand side in each individual state in the other three rows).\n",
    "\n",
    "Each contract pays 1 dollar at time T if the referenced candidate wins the referenced state (or the US, for the contracts in the top row), and pays zero otherwise.\n",
    "\n",
    "So, for example, the GA.Trump contract has a time-0 price of 0.44 dollars. It pays 1 dollar if Trump wins in Georgia, and pays 0 if Biden wins in Georgia.\n",
    "\n",
    "Assume that Trump wins the US Presidential election if and only if he wins all three states: Arizona, Georgia, Pennsylvania.\n",
    "\n",
    "Then arbitrage exists.\n",
    "\n",
    "(a) Find an arbitrage that uses some or all of those 8 listed contracts, but does not use the bank account. In part (a), short-selling (holding negative quantities of an asset) is allowed for any of those 8 listed contracts.\n",
    "\n",
    "(b) Find an arbitrage that uses some or all of those 8 listed contracts, but does not involve short- selling of any of those 8 listed contracts. In part (b) you are allowed to hold the bank account, in positive or negative quantities.\n",
    "\n",
    "You may use either the type-1 or type-2 definition of arbitrage. Make no further assumptions regarding the probability distribution of the outcomes in the 3 states; your arbitrage must be valid, irrespective of the probability distributions of the outcomes in those 3 states (and irrespective of the joint distributions of those outcomes)."
   ]
  },
  {
   "cell_type": "code",
   "execution_count": null,
   "id": "16902b09-8ac6-4d24-92d7-18d40fcc0db9",
   "metadata": {},
   "outputs": [],
   "source": []
  }
 ],
 "metadata": {
  "kernelspec": {
   "display_name": "Python 3",
   "language": "python",
   "name": "python3"
  },
  "language_info": {
   "codemirror_mode": {
    "name": "ipython",
    "version": 3
   },
   "file_extension": ".py",
   "mimetype": "text/x-python",
   "name": "python",
   "nbconvert_exporter": "python",
   "pygments_lexer": "ipython3",
   "version": "3.9.6"
  }
 },
 "nbformat": 4,
 "nbformat_minor": 5
}
