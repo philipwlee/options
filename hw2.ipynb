{
 "cells": [
  {
   "cell_type": "markdown",
   "id": "69ad48dd-e8f5-47a1-ae04-591ed2e685cf",
   "metadata": {},
   "source": [
    "# Problem 1\n",
    "\n",
    "Assume that discount bonds maturing at T have time-0 price 0.95 per unit. Assume that T-expiry standard (“plain vanilla”) European calls on a random variable $S_T$ are available at the following strikes K and time-0 prices $C_0(K)$. Exactly six basic assets are available: the bond and these five calls, nothing else. As defined in class, these standard European calls pay $(S_T − K)^+$.\n",
    "\n",
    "|$$K$$|$$C_0(K)$$|\n",
    "|---|---|\n",
    "|20.0| 6.15|\n",
    "|22.5| 4.15|\n",
    "|25.0| 2.60|\n",
    "|27.5| 1.50|\n",
    "|30.0| 0.80|\n",
    "\n",
    "A T-expiry K-strike binary or digital call on $S_T$ pays at time T either 1 if $S_T \\geq K$, or 0 if $S_T < K$. A T-expiry K-strike binary or digital put on $S_T$ pays at time T either 1 if $S_T < K$, or 0 if $S_T \\geq K$. (This specification of which inequalities are strict is not universal.)"
   ]
  },
  {
   "cell_type": "markdown",
   "id": "1a0a87c7-1fd0-4b94-8e67-ee34a3e6532c",
   "metadata": {},
   "source": [
    "(a) Find upper and lower bounds on the time-0 price of a T -expiry 22.5-strike binary call on $S_T$.\n",
    "\n",
    "**Upper:** $V_T = \\frac{1}{2.5} C_T(20.0) - \\frac{1}{2.5} C_T(22.5) \\Rightarrow V_0 = \\frac{6.15-4.15}{2.5} = \\frac{2}{2.5} = 0.80$\n",
    "\n",
    "**Lower:** $V_T = \\frac{1}{2.5} C_T(22.5) - \\frac{1}{2.5} C_T(25.0) \\Rightarrow V_0 = \\frac{4.15-2.60}{2.5} = \\frac{1.55}{2.5} = 0.62$"
   ]
  },
  {
   "cell_type": "markdown",
   "id": "4f65d0cc-df85-4875-8e9a-7e2d5f6c0bf3",
   "metadata": {},
   "source": [
    "(b) Find upper and lower bounds on the time-0 price of a T -expiry 22.5-strike binary put on $S_T$.\n",
    "\n",
    "**Upper:** $V_T = \\frac{1}{2.5} C_T(25.0) - \\frac{1}{2.5} C_T(22.5) + B_T \\Rightarrow V_0 = \\frac{2.60-4.15}{2.5} + 0.95 = \\frac{-1.55}{2.5} + 0.95 = 0.33$\n",
    "\n",
    "**Lower:** $V_T = \\frac{1}{2.5} C_T(22.5) - \\frac{1}{2.5} C_T(20.0) + B_T \\Rightarrow V_0 = \\frac{4.15-6.15}{2.5} + 0.95 = \\frac{-2}{2.5} + 0.95 = 0.15$"
   ]
  },
  {
   "cell_type": "markdown",
   "id": "a9c9557f-df96-42bb-8f86-1dcc1634f8ce",
   "metadata": {},
   "source": [
    "(c) Find the time-0 price of a contract which pays $\\max(2.5, S_T − 22.5)$ at time T.\n",
    "\n",
    "$V_T = \\max(2.5, S_T − 22.5) = \\max(0, S_T − 25.0) + 2.5 \\Rightarrow V_0 = C_0(25.0) + 2.5 B_0 = 4.975$"
   ]
  },
  {
   "cell_type": "markdown",
   "id": "7fa1395a-b348-49aa-a9bb-6cf2bd184af8",
   "metadata": {},
   "source": [
    "(d) Find an upper bound on the time-0 price of a T-expiry 28-strike standard call. (This is a plain vanilla call, not a binary call.)\n",
    "\n",
    "**Upper:** $V_T = \\frac{2}{2.5} C_T(27.5) + \\frac{0.5}{2.5} C_T(30.0) \\Rightarrow V_0 = \\frac{3.0+0.4}{2.5} = \\frac{3.4}{2.5} = 1.36$"
   ]
  },
  {
   "cell_type": "markdown",
   "id": "4b6ec5b5-edbc-4e57-ac8a-134ff6bc161c",
   "metadata": {},
   "source": [
    "Do so by using static portfolios to (depending on the question) replicate or superreplicate or sub- replicate the derivative contract. Your final answers should be numbers.\n",
    "\n",
    "In parts (a,b,d), you do not need to show that your bounds are tight. However, bounds which are not tight will lose some credit. Tight means that they cannot be improved (lowered in the case of an upper bound, raised in the case of a lower bound) without making further assumptions."
   ]
  },
  {
   "cell_type": "markdown",
   "id": "d58d241a-9fb2-4cbd-8532-76fc4526b9aa",
   "metadata": {},
   "source": [
    "# Problem 2\n",
    "\n",
    "(a) Let $f : (0, \\infty) \\to \\mathbb{R}$ be twice continuously differentiable. Prove that for any $K_* > 0$ and any $s > 0$,\n",
    "\n",
    "$$\n",
    "f(s)=f(K_*) + f'(K_*)(s-K_*) + \\int_0^{K_*} f''(K)(K-s)^+dK + \\int_{K_*}^{\\infty} f''(K)(s-K)^+dK\n",
    "$$\n",
    "\n",
    "Hint: First consider the case $s > K_*$. One of the two integrals will vanish. Simplify the non-vanishing integral by changing a limit of integration in a way that allows you to delete the + in the integrand. Then integrate by parts.\n",
    "\n",
    "$$\\begin{aligned}\n",
    "    f(s)&=f(K_*) + f'(K_*)(s-K_*) + \\int_0^{K_*} f''(K)(K-s)^+dK + \\int_{K_*}^{\\infty} f''(K)(s-K)^+dK \\\\\n",
    "    \\\\\n",
    "    \\text{if $s > K_*$:}& \\\\\n",
    "    f(s)&=f(K_*) + f'(K_*)(s-K_*) + \\underbrace{\\int_0^{K_*} f''(K)(K-s)^+dK}_{(K-s)^+=0} + \\underbrace{\\int_{K_*}^{\\infty} f''(K)(s-K)^+dK}_{\\text{change integration bounds to eliminate} (s-K)^+} \\\\\n",
    "        &=f(K_*) + f'(K_*)(s-K_*) + \\int_{K_*}^{s} f''(K)(s-K)^+dK + \\int_{s}^{\\infty} f''(K)(s-K)^+dK \\\\\n",
    "        &=f(K_*) + f'(K_*)(s-K_*) + \\int_{K_*}^{s} f''(K)(s-K)dK + \\int_{s}^{\\infty} f''(K)(0)dK \\\\\n",
    "        &=f(K_*) + f'(K_*)(s-K_*) + \\int_{K_*}^{s} f''(K)(s-K)dK \\\\\n",
    "        &=f(K_*) + f'(K_*)(s-K_*) + \\biggl(sf'(K) - (Kf'(K)-f(K))\\biggr)\\bigg|_{K_*}^s \\\\\n",
    "        &=f(K_*) + f'(K_*)(s-K_*) + \\biggl(sf'(s) - sf'(s) + f(s) - sf'(K_*) + K_*f'(K_*) - f(K_*) \\biggr) \\\\\n",
    "        &=f(K_*) + f'(K_*)(s-K_*) + \\biggl(f(s)-f(K_*) +(K_* - s)f'(K_*) \\biggr) \\\\\n",
    "        &=f(s) \\\\\n",
    "    \\\\\n",
    "    \\text{if $s \\leq K_*$:}& \\\\\n",
    "    f(s)&=f(K_*) + f'(K_*)(s-K_*) + \\underbrace{\\int_0^{K_*} f''(K)(K-s)^+dK}_{\\text{change integration bounds to eliminate} (K-s)^+} + \\underbrace{\\int_{K_*}^{\\infty} f''(K)(s-K)^+dK}_{(s-K)^+=0} \\\\\n",
    "        &=f(K_*) + f'(K_*)(s-K_*) + \\int_0^{s} f''(K)(K-s)^+dK + \\int_s^{K_*} f''(K)(K-s)^+dK \\\\\n",
    "        &=f(K_*) + f'(K_*)(s-K_*) + \\int_0^{s} f''(K)(0)dK + \\int_s^{K_*} f''(K)(K-s)dK \\\\\n",
    "        &=f(K_*) + f'(K_*)(s-K_*) + \\int_s^{K_*} f''(K)(K-s)dK \\\\\n",
    "        &=f(K_*) + f'(K_*)(s-K_*) + \\biggl(Kf'(K) - f(K) - sf'(K)\\biggr)\\bigg|_s^{K_*} \\\\\n",
    "        &=f(K_*) + f'(K_*)(s-K_*) + \\biggl(K_*f'(K_*) - f(K_*) - sf'(K_*) - sf'(s) + f(s) + sf'(s)\\biggr) \\\\\n",
    "        &=f(K_*) + f'(K_*)(s-K_*) + \\biggl(f(s) - f(K_*) + (K_* - s)f'(K_*) \\biggr) \\\\\n",
    "        &=f(s) \\\\\n",
    "\\end{aligned}$$"
   ]
  },
  {
   "cell_type": "markdown",
   "id": "cfd00b11-ca85-4f2a-ae3d-cc241246aef3",
   "metadata": {},
   "source": [
    "(b) Part (a) indicates how to replicate the time-T payoff $f(S_T)$ using a static portfolio of T-maturity bonds, forwards, puts, and calls on $S_T$. In practice it may not be exactly implementable, because it uses a mixture of calls and puts across a continuum of strikes from 0 to $\\infty$, whereas in practice one can hold calls and puts at only a discrete set of strikes.\n",
    "\n",
    "Let S be some positive price process. Suppose you want to replicate approximately the payoff $−2 \\log(S_T)$, by making use of puts and calls with strikes at, and only at, all the positive integer multiples of 5. (So we are ignoring the fact that in practice you cannot acquire options at infinitely many strikes, but we are taking account of the fact that options are listed only at certain discrete strikes.)\n",
    "\n",
    "Let us choose, say, $K_* = 1960$. (In theory one can choose the $K_*$ arbitrarily; in practice one typically chooses $K_*$ close to $S_0$.)\n",
    "\n",
    "You will hold 0 calls with strike 1950. Approximately how many puts with strike 1950 should you hold, according to part (a)? You will also hold puts at other strikes, but I am asking you only about the 1950 strike. Give at least 3 significant digits (digits after the leading zeros).\n",
    "As a first step, approximate the appropriate integral by a Riemann sum.\n",
    "\n",
    "$$\\begin{aligned}\n",
    "    f(s)&=\\underbrace{f(K_*)}_{\\text{bonds}} + \\underbrace{f'(K_*)(s-K_*)}_{\\text{futures}} + \\underbrace{\\int_0^{K_*} f''(K)(K-s)^+dK}_{\\text{puts}} + \\underbrace{\\int_{K_*}^{\\infty} f''(K)(s-K)^+dK}_{\\text{calls}} \\\\\n",
    "    \\\\\n",
    "    \\text{Define no calls:}& \\\\\n",
    "    f(s)&=f(K_*) + f'(K_*)(s-K_*) + \\int_s^{K_*} f''(K)(K-s)dK \\\\\n",
    "    \\\\\n",
    "    f(S_T)&=−2 \\log(S_T) \\\\\n",
    "    f'(S_T)&=\\frac{−2}{S_T} \\\\\n",
    "    f''(S_T)&=\\frac{2}{(S_T)^2} \\\\\n",
    "    \\\\\n",
    "    \\text{Examine only the puts:}& \\\\\n",
    "    \\text{puts}&= \\int_s^{K_*} f''(K)(K-s)dK \\\\\n",
    "        &\\Rightarrow \\sum_{i=0}^{\\frac{K_*-s}{\\Delta K}} f''(s+i \\Delta K)((s+i \\Delta K)-s)\\Delta K \\\\\n",
    "    \\text{Given: }& \\Delta K = 5 \\text{ and } s+i \\Delta K = 1950 \\\\\n",
    "        & \\underbrace{5f''(1950)}_{\\text{weight}}\\underbrace{(1950-s)}_{\\text{put payoff}} \\\\\n",
    "    5f''(1950)&=5\\frac{2}{1950^2}=2.63 * 10^{-6}\n",
    "\\end{aligned}$$"
   ]
  }
 ],
 "metadata": {
  "kernelspec": {
   "display_name": "Python 3",
   "language": "python",
   "name": "python3"
  },
  "language_info": {
   "codemirror_mode": {
    "name": "ipython",
    "version": 3
   },
   "file_extension": ".py",
   "mimetype": "text/x-python",
   "name": "python",
   "nbconvert_exporter": "python",
   "pygments_lexer": "ipython3",
   "version": "3.9.1"
  }
 },
 "nbformat": 4,
 "nbformat_minor": 5
}
